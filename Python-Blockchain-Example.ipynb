{
 "cells": [
  {
   "cell_type": "markdown",
   "id": "72597fd9",
   "metadata": {},
   "source": [
    "<p >Hello!</p>"
   ]
  },
  {
   "cell_type": "code",
   "execution_count": 1,
   "id": "4be1739c",
   "metadata": {},
   "outputs": [],
   "source": [
    "import hashlib\n",
    "import time\n",
    "\n",
    "class Block:\n",
    "\n",
    "    def __init__(self, index, proof_no, prev_hash, data, timestamp=None):\n",
    "        #first block class\n",
    "\n",
    "        self.index = index\n",
    "        self.proof_no = proof_no\n",
    "        self.prev_hash = prev_hash\n",
    "        self.data = data\n",
    "        self.timestamp = timestamp or time.time()\n",
    "\n",
    "    @property\n",
    "    def calculate_hash(self):\n",
    "        #calculates the cryptographic hash of every block\n",
    "        \n",
    "        block_of_string = \"{}{}{}{}{}\".format(self.index, self.proof_no,\n",
    "                                              self.prev_hash, self.data,\n",
    "                                              self.timestamp)\n",
    "\n",
    "        return hashlib.sha256(block_of_string.encode()).hexdigest()\n",
    "\n",
    "    def __repr__(self):\n",
    "        #return block parameters in nice format\n",
    "        return \"{} - {} - {} - {} - {}\".format(self.index, self.proof_no,\n",
    "                                               self.prev_hash, self.data,\n",
    "                                               self.timestamp)"
   ]
  },
  {
   "cell_type": "code",
   "execution_count": 2,
   "id": "96a4b587",
   "metadata": {},
   "outputs": [],
   "source": [
    "class BlockChain:\n",
    "\n",
    "    def __init__(self):\n",
    "         # constructor method\n",
    "        self.chain = []\n",
    "        self.current_data = []\n",
    "        self.nodes = set()\n",
    "        self.construct_genesis() # constructs the genesis block on creation of chain\n",
    "        \n",
    "    def construct_genesis(self):\n",
    "        # constructs the first block\n",
    "        self.construct_block(proof_no=0, prev_hash=0)\n",
    "\n",
    "\n",
    "    def construct_block(self, proof_no, prev_hash):\n",
    "        # constructs a new block and adds it to the chain\n",
    "        block = Block(\n",
    "            index=len(self.chain),\n",
    "            proof_no=proof_no,\n",
    "            prev_hash=prev_hash,\n",
    "            data=self.current_data)\n",
    "        self.current_data = []\n",
    "\n",
    "        self.chain.append(block)\n",
    "        return block\n",
    "    \n",
    "    @staticmethod\n",
    "    def check_validity(block, prev_block):\n",
    "         # checks whether the blockchain is valid\n",
    "        if prev_block.index + 1 != block.index:\n",
    "            return False\n",
    "\n",
    "        elif prev_block.calculate_hash != block.prev_hash:\n",
    "            return False\n",
    "\n",
    "        elif not BlockChain.verifying_proof(block.proof_no, prev_block.proof_no):\n",
    "            return False\n",
    "\n",
    "        elif block.timestamp <= prev_block.timestamp:\n",
    "            return False\n",
    "\n",
    "        return True\n",
    "\n",
    "    def new_data(self, sender, recipient, quantity):\n",
    "          # adds a new transaction to the data of the transactions\n",
    "        self.current_data.append({\n",
    "            'sender': sender,\n",
    "            'recipient': recipient,\n",
    "            'quantity': quantity\n",
    "        })\n",
    "        return True\n",
    "\n",
    "    @staticmethod\n",
    "    def proof_of_work(last_proof):\n",
    "        # protects the blockchain from attack\n",
    "        '''this simple algorithm identifies a number f' such that hash(ff') contain 4 leading zeroes\n",
    "             f is the previous f'\n",
    "             f' is the new proof\n",
    "            '''\n",
    "        proof_no = 0\n",
    "        while BlockChain.verifying_proof(proof_no, last_proof) is False:\n",
    "            proof_no += 1\n",
    "\n",
    "        return proof_no\n",
    "\n",
    "\n",
    "    @staticmethod\n",
    "    def verifying_proof(last_proof, proof):\n",
    "        #verifying the proof: does hash(last_proof, proof) contain 4 leading zeroes?\n",
    "\n",
    "        guess = f'{last_proof}{proof}'.encode()\n",
    "        guess_hash = hashlib.sha256(guess).hexdigest()\n",
    "        return guess_hash[:4] == \"0000\"\n",
    "    \n",
    "    @property\n",
    "    def latest_block(self):\n",
    "        # returns the last block in the chain\n",
    "        return self.chain[-1]"
   ]
  },
  {
   "cell_type": "code",
   "execution_count": 3,
   "id": "966b114c",
   "metadata": {},
   "outputs": [],
   "source": [
    "blockchain = BlockChain() #create new Blockchain instance"
   ]
  },
  {
   "cell_type": "code",
   "execution_count": 4,
   "id": "0ccf6b1d",
   "metadata": {},
   "outputs": [
    {
     "name": "stdout",
     "output_type": "stream",
     "text": [
      "[0 - 0 - 0 - [] - 1631770533.0753143]\n"
     ]
    }
   ],
   "source": [
    "print(blockchain.chain) #check out the Genesis block "
   ]
  },
  {
   "cell_type": "code",
   "execution_count": 14,
   "id": "ebd22bc2",
   "metadata": {},
   "outputs": [
    {
     "data": {
      "text/plain": [
       "True"
      ]
     },
     "execution_count": 14,
     "metadata": {},
     "output_type": "execute_result"
    }
   ],
   "source": [
    "blockchain.new_data(\n",
    "    sender=\"0\",  #it implies that this node has created a new block\n",
    "    recipient=\"Adept Canberra\",  #let's send Adept some coins!\n",
    "    quantity=\n",
    "    1,  #creating a new block (or identifying the proof number) is awarded with 1\n",
    ")"
   ]
  },
  {
   "cell_type": "code",
   "execution_count": 15,
   "id": "7f6c8696",
   "metadata": {},
   "outputs": [],
   "source": [
    "last_block = blockchain.latest_block #grab the last block in the chain"
   ]
  },
  {
   "cell_type": "code",
   "execution_count": 18,
   "id": "c6f340d7",
   "metadata": {},
   "outputs": [],
   "source": [
    "last_proof_no = last_block.proof_no #and from this last block, we grab the proof no"
   ]
  },
  {
   "cell_type": "code",
   "execution_count": 19,
   "id": "ac10d171",
   "metadata": {},
   "outputs": [],
   "source": [
    "last_hash = last_block.calculate_hash #and the its (the last block's) hash"
   ]
  },
  {
   "cell_type": "code",
   "execution_count": 7,
   "id": "6cf878d0",
   "metadata": {},
   "outputs": [
    {
     "ename": "NameError",
     "evalue": "name 'last_block' is not defined",
     "output_type": "error",
     "traceback": [
      "\u001b[1;31m---------------------------------------------------------------------------\u001b[0m",
      "\u001b[1;31mNameError\u001b[0m                                 Traceback (most recent call last)",
      "\u001b[1;32m~\\AppData\\Local\\Temp/ipykernel_37296/320865455.py\u001b[0m in \u001b[0;36m<module>\u001b[1;34m\u001b[0m\n\u001b[1;32m----> 1\u001b[1;33m \u001b[0mlast_hash\u001b[0m \u001b[1;33m=\u001b[0m \u001b[0mlast_block\u001b[0m\u001b[1;33m.\u001b[0m\u001b[0mcalculate_hash\u001b[0m \u001b[1;31m#grab the last hash\u001b[0m\u001b[1;33m\u001b[0m\u001b[1;33m\u001b[0m\u001b[0m\n\u001b[0m",
      "\u001b[1;31mNameError\u001b[0m: name 'last_block' is not defined"
     ]
    }
   ],
   "source": [
    "proof_no = blockchain.proof_of_work(last_proof_no) #we then calculate the next proof no from the previous, check our new_data is valid\n"
   ]
  },
  {
   "cell_type": "code",
   "execution_count": 21,
   "id": "6a570c54",
   "metadata": {},
   "outputs": [],
   "source": [
    "block = blockchain.construct_block(proof_no, last_hash) #we then construct our new block and add it to the chain"
   ]
  },
  {
   "cell_type": "code",
   "execution_count": 22,
   "id": "3007ad14",
   "metadata": {},
   "outputs": [
    {
     "name": "stdout",
     "output_type": "stream",
     "text": [
      "[0 - 0 - 0 - [] - 1631614634.5526755, 1 - 88914 - 3421addb283fc622bdfb9e1ecf864bb7ec0d926da0e841ea436637434f63d80f - [{'sender': '0', 'recipient': 'Quincy Larson', 'quantity': 1}] - 1631614854.9791062]\n"
     ]
    }
   ],
   "source": [
    "print(blockchain.chain) #and see it append to the chain!"
   ]
  }
 ],
 "metadata": {
  "kernelspec": {
   "display_name": "Python 3 (ipykernel)",
   "language": "python",
   "name": "python3"
  },
  "language_info": {
   "codemirror_mode": {
    "name": "ipython",
    "version": 3
   },
   "file_extension": ".py",
   "mimetype": "text/x-python",
   "name": "python",
   "nbconvert_exporter": "python",
   "pygments_lexer": "ipython3",
   "version": "3.9.6"
  }
 },
 "nbformat": 4,
 "nbformat_minor": 5
}
